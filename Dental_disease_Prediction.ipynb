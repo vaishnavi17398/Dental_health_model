{
 "cells": [
  {
   "cell_type": "markdown",
   "id": "0e3d2305",
   "metadata": {},
   "source": [
    "**Problem statement:\n",
    "Dental Health Prediction Model Using Oral Hygiene Habits\n",
    "● Objective: Develop a predictive model to assess dental health risks based on oral hygiene habits. \n",
    "● Requirements: ● Use open-source medical datasets related to dental health (if available) or general health datasets where dental health factors are included or create your own random dataset. \n",
    "● Include variables like brushing frequency, fl ossing habits, and sugar consumption in the model. ● Analyze the data to identify patterns and correlations that could predict dental health issues"
   ]
  },
  {
   "cell_type": "markdown",
   "id": "10940f7b",
   "metadata": {},
   "source": [
    "# Creating dental health dataset "
   ]
  },
  {
   "cell_type": "markdown",
   "id": "fc6d0854",
   "metadata": {},
   "source": [
    "**The random dataset is created as synthetic data for the purpose of demonstrating and experimenting with various data analysis and machine learning tasks. "
   ]
  },
  {
   "cell_type": "code",
   "execution_count": 1,
   "id": "704c2409",
   "metadata": {},
   "outputs": [
    {
     "name": "stdout",
     "output_type": "stream",
     "text": [
      "   ID  Age  Gender   Brushing_Frequency Flossing_Habits Sugar_Consumption  \\\n",
      "0   1   45  Female          Twice a day    Occasionally               Low   \n",
      "1   2   47  Female  Once every few days    Occasionally              High   \n",
      "2   3   49  Female          Twice a day       Regularly              High   \n",
      "3   4   21  Female  Once every few days          Rarely          Moderate   \n",
      "4   5   57  Female          Twice a day    Occasionally               Low   \n",
      "\n",
      "  Dental_Checkups Gum_Disease_Risk  \n",
      "0       Irregular             High  \n",
      "1         Regular             High  \n",
      "2         Regular             High  \n",
      "3         Regular             High  \n",
      "4            None              Low  \n"
     ]
    }
   ],
   "source": [
    "import pandas as pd\n",
    "import numpy as np\n",
    "\n",
    "# Set a random seed for reproducibility\n",
    "np.random.seed(90)\n",
    "\n",
    "# Generate synthetic data for a sample population\n",
    "num_people = 15000\n",
    "\n",
    "data = {\n",
    "    'ID': np.arange(1, num_people + 1),\n",
    "    'Age': np.random.randint(18, 65, num_people),\n",
    "    'Gender': np.random.choice(['Male', 'Female'], num_people),\n",
    "    'Brushing_Frequency': np.random.choice(['Daily', 'Twice a day', 'Once every few days'], num_people),\n",
    "    'Flossing_Habits': np.random.choice(['Regularly', 'Occasionally', 'Rarely'], num_people),\n",
    "    'Sugar_Consumption': np.random.choice(['Low', 'Moderate', 'High'], num_people),\n",
    "    'Dental_Checkups': np.random.choice(['Regular', 'Irregular', 'None'], num_people),\n",
    "    'Gum_Disease_Risk': np.random.choice(['Low', 'Moderate', 'High'], num_people),\n",
    "}\n",
    "\n",
    "\n",
    "# Create a DataFrame\n",
    "df = pd.DataFrame(data)\n",
    "\n",
    "# Display the first few rows of the dataset\n",
    "print(df.head())\n",
    "\n",
    "# Save the dataset to a CSV file\n",
    "df.to_csv('dental_health_dataset.csv', index=False)\n"
   ]
  },
  {
   "cell_type": "markdown",
   "id": "3ce1b3d0",
   "metadata": {},
   "source": [
    "**Here, we can select Gum_disease_risk column as our target column that means the predictive model that is going to be built will predict whether the individual will have gum disease or not based on the other column "
   ]
  },
  {
   "cell_type": "markdown",
   "id": "dd3dfbf6",
   "metadata": {},
   "source": [
    "## Understanding data and descriptive statistics "
   ]
  },
  {
   "cell_type": "code",
   "execution_count": 2,
   "id": "2d22b225",
   "metadata": {},
   "outputs": [
    {
     "data": {
      "text/plain": [
       "(15000, 8)"
      ]
     },
     "execution_count": 2,
     "metadata": {},
     "output_type": "execute_result"
    }
   ],
   "source": [
    "df.shape\n",
    "# no. of rows and columns in dataset"
   ]
  },
  {
   "cell_type": "code",
   "execution_count": 3,
   "id": "a4d79f24",
   "metadata": {},
   "outputs": [
    {
     "data": {
      "text/plain": [
       "Index(['ID', 'Age', 'Gender', 'Brushing_Frequency', 'Flossing_Habits',\n",
       "       'Sugar_Consumption', 'Dental_Checkups', 'Gum_Disease_Risk'],\n",
       "      dtype='object')"
      ]
     },
     "execution_count": 3,
     "metadata": {},
     "output_type": "execute_result"
    }
   ],
   "source": [
    "df.columns\n",
    "#attribute in the dataset"
   ]
  },
  {
   "cell_type": "code",
   "execution_count": 4,
   "id": "4a335a24",
   "metadata": {},
   "outputs": [
    {
     "data": {
      "text/plain": [
       "array(['High', 'Low', 'Moderate'], dtype=object)"
      ]
     },
     "execution_count": 4,
     "metadata": {},
     "output_type": "execute_result"
    }
   ],
   "source": [
    "df['Gum_Disease_Risk'].unique()\n",
    "#This is our target column"
   ]
  },
  {
   "cell_type": "code",
   "execution_count": 5,
   "id": "2c4163dc",
   "metadata": {},
   "outputs": [
    {
     "name": "stdout",
     "output_type": "stream",
     "text": [
      "<class 'pandas.core.frame.DataFrame'>\n",
      "RangeIndex: 15000 entries, 0 to 14999\n",
      "Data columns (total 8 columns):\n",
      " #   Column              Non-Null Count  Dtype \n",
      "---  ------              --------------  ----- \n",
      " 0   ID                  15000 non-null  int32 \n",
      " 1   Age                 15000 non-null  int32 \n",
      " 2   Gender              15000 non-null  object\n",
      " 3   Brushing_Frequency  15000 non-null  object\n",
      " 4   Flossing_Habits     15000 non-null  object\n",
      " 5   Sugar_Consumption   15000 non-null  object\n",
      " 6   Dental_Checkups     15000 non-null  object\n",
      " 7   Gum_Disease_Risk    15000 non-null  object\n",
      "dtypes: int32(2), object(6)\n",
      "memory usage: 820.4+ KB\n",
      "None\n"
     ]
    }
   ],
   "source": [
    "# Display basic information about the dataset\n",
    "print(df.info())"
   ]
  },
  {
   "cell_type": "code",
   "execution_count": 6,
   "id": "19a24f03",
   "metadata": {},
   "outputs": [
    {
     "name": "stdout",
     "output_type": "stream",
     "text": [
      "                 ID           Age\n",
      "count  15000.000000  15000.000000\n",
      "mean    7500.500000     41.001067\n",
      "std     4330.271354     13.482027\n",
      "min        1.000000     18.000000\n",
      "25%     3750.750000     29.000000\n",
      "50%     7500.500000     41.000000\n",
      "75%    11250.250000     53.000000\n",
      "max    15000.000000     64.000000\n"
     ]
    }
   ],
   "source": [
    "# Summary statistics for numerical columns\n",
    "print(df.describe())"
   ]
  },
  {
   "cell_type": "code",
   "execution_count": 7,
   "id": "4817ada2",
   "metadata": {},
   "outputs": [
    {
     "data": {
      "text/html": [
       "<div>\n",
       "<style scoped>\n",
       "    .dataframe tbody tr th:only-of-type {\n",
       "        vertical-align: middle;\n",
       "    }\n",
       "\n",
       "    .dataframe tbody tr th {\n",
       "        vertical-align: top;\n",
       "    }\n",
       "\n",
       "    .dataframe thead th {\n",
       "        text-align: right;\n",
       "    }\n",
       "</style>\n",
       "<table border=\"1\" class=\"dataframe\">\n",
       "  <thead>\n",
       "    <tr style=\"text-align: right;\">\n",
       "      <th></th>\n",
       "      <th>Gender</th>\n",
       "      <th>Brushing_Frequency</th>\n",
       "      <th>Flossing_Habits</th>\n",
       "      <th>Sugar_Consumption</th>\n",
       "      <th>Dental_Checkups</th>\n",
       "      <th>Gum_Disease_Risk</th>\n",
       "    </tr>\n",
       "  </thead>\n",
       "  <tbody>\n",
       "    <tr>\n",
       "      <th>count</th>\n",
       "      <td>15000</td>\n",
       "      <td>15000</td>\n",
       "      <td>15000</td>\n",
       "      <td>15000</td>\n",
       "      <td>15000</td>\n",
       "      <td>15000</td>\n",
       "    </tr>\n",
       "    <tr>\n",
       "      <th>unique</th>\n",
       "      <td>2</td>\n",
       "      <td>3</td>\n",
       "      <td>3</td>\n",
       "      <td>3</td>\n",
       "      <td>3</td>\n",
       "      <td>3</td>\n",
       "    </tr>\n",
       "    <tr>\n",
       "      <th>top</th>\n",
       "      <td>Male</td>\n",
       "      <td>Once every few days</td>\n",
       "      <td>Rarely</td>\n",
       "      <td>High</td>\n",
       "      <td>None</td>\n",
       "      <td>Moderate</td>\n",
       "    </tr>\n",
       "    <tr>\n",
       "      <th>freq</th>\n",
       "      <td>7518</td>\n",
       "      <td>5048</td>\n",
       "      <td>5124</td>\n",
       "      <td>5135</td>\n",
       "      <td>5085</td>\n",
       "      <td>5061</td>\n",
       "    </tr>\n",
       "  </tbody>\n",
       "</table>\n",
       "</div>"
      ],
      "text/plain": [
       "       Gender   Brushing_Frequency Flossing_Habits Sugar_Consumption  \\\n",
       "count   15000                15000           15000             15000   \n",
       "unique      2                    3               3                 3   \n",
       "top      Male  Once every few days          Rarely              High   \n",
       "freq     7518                 5048            5124              5135   \n",
       "\n",
       "       Dental_Checkups Gum_Disease_Risk  \n",
       "count            15000            15000  \n",
       "unique               3                3  \n",
       "top               None         Moderate  \n",
       "freq              5085             5061  "
      ]
     },
     "execution_count": 7,
     "metadata": {},
     "output_type": "execute_result"
    }
   ],
   "source": [
    "# Display descriptive statistics for object (categorical) columns in the DataFrame\n",
    "df.describe(include='object')"
   ]
  },
  {
   "cell_type": "code",
   "execution_count": 8,
   "id": "91858d19",
   "metadata": {},
   "outputs": [
    {
     "data": {
      "text/plain": [
       "Moderate    33.740000\n",
       "Low         33.233333\n",
       "High        33.026667\n",
       "Name: Gum_Disease_Risk, dtype: float64"
      ]
     },
     "execution_count": 8,
     "metadata": {},
     "output_type": "execute_result"
    }
   ],
   "source": [
    "df['Gum_Disease_Risk'].value_counts(normalize=True)*100\n",
    "#data is balanced"
   ]
  },
  {
   "cell_type": "code",
   "execution_count": 9,
   "id": "705d3d12",
   "metadata": {},
   "outputs": [
    {
     "data": {
      "text/html": [
       "<div>\n",
       "<style scoped>\n",
       "    .dataframe tbody tr th:only-of-type {\n",
       "        vertical-align: middle;\n",
       "    }\n",
       "\n",
       "    .dataframe tbody tr th {\n",
       "        vertical-align: top;\n",
       "    }\n",
       "\n",
       "    .dataframe thead th {\n",
       "        text-align: right;\n",
       "    }\n",
       "</style>\n",
       "<table border=\"1\" class=\"dataframe\">\n",
       "  <thead>\n",
       "    <tr style=\"text-align: right;\">\n",
       "      <th></th>\n",
       "      <th>ID</th>\n",
       "      <th>Age</th>\n",
       "      <th>Gender</th>\n",
       "      <th>Brushing_Frequency</th>\n",
       "      <th>Flossing_Habits</th>\n",
       "      <th>Sugar_Consumption</th>\n",
       "      <th>Dental_Checkups</th>\n",
       "      <th>Gum_Disease_Risk</th>\n",
       "    </tr>\n",
       "  </thead>\n",
       "  <tbody>\n",
       "  </tbody>\n",
       "</table>\n",
       "</div>"
      ],
      "text/plain": [
       "Empty DataFrame\n",
       "Columns: [ID, Age, Gender, Brushing_Frequency, Flossing_Habits, Sugar_Consumption, Dental_Checkups, Gum_Disease_Risk]\n",
       "Index: []"
      ]
     },
     "execution_count": 9,
     "metadata": {},
     "output_type": "execute_result"
    }
   ],
   "source": [
    "df[df.duplicated()]\n",
    "#no duplicate rows"
   ]
  },
  {
   "cell_type": "code",
   "execution_count": 10,
   "id": "3aa4c61d",
   "metadata": {},
   "outputs": [],
   "source": [
    "#mean is equal to median , hence our data is normally distributed"
   ]
  },
  {
   "cell_type": "markdown",
   "id": "79c77782",
   "metadata": {},
   "source": [
    "# Univariate analysis of the dataset"
   ]
  },
  {
   "cell_type": "code",
   "execution_count": 11,
   "id": "9d98d9c5",
   "metadata": {},
   "outputs": [
    {
     "data": {
      "image/png": "[encoded data removed]",
      "text/plain": [
       "<Figure size 720x432 with 1 Axes>"
      ]
     },
     "metadata": {
      "needs_background": "light"
     },
     "output_type": "display_data"
    }
   ],
   "source": [
    "# Distribution of numerical column Age using histogram to confirm descriptive analysis result\n",
    "import matplotlib.pyplot as plt\n",
    "import seaborn as sns\n",
    "plt.figure(figsize=(10, 6))\n",
    "sns.histplot(df['Age'], bins=20, kde=True)\n",
    "plt.title('Distribution of Age')\n",
    "plt.xlabel('Age')\n",
    "plt.ylabel('Frequency')\n",
    "plt.show()\n"
   ]
  },
  {
   "cell_type": "markdown",
   "id": "1c221f52",
   "metadata": {},
   "source": [
    "**The histogram shows that the age distribution is relatively uniform, with a peak around 41. Most individuals in the dataset are between 18 and 65 years old."
   ]
  },
  {
   "cell_type": "code",
   "execution_count": 12,
   "id": "a155bf20",
   "metadata": {},
   "outputs": [],
   "source": [
    "# let us now plot countplot of all object variables\n",
    "#filtering categorical columns from the dataset to plot countplot\n",
    "categorical_col=df.select_dtypes(include='object').columns"
   ]
  },
  {
   "cell_type": "code",
   "execution_count": 13,
   "id": "5ae3246a",
   "metadata": {},
   "outputs": [
    {
     "data": {
      "image/png": "[encoded data removed]",
      "text/plain": [
       "<Figure size 1080x1080 with 6 Axes>"
      ]
     },
     "metadata": {
      "needs_background": "light"
     },
     "output_type": "display_data"
    }
   ],
   "source": [
    "# Calculate the number of rows and columns for subplots\n",
    "num_rows = len(categorical_col) // 2\n",
    "num_columns = 2\n",
    "\n",
    "# Create subplots\n",
    "fig, axes = plt.subplots(num_rows, num_columns, figsize=(15, 5 * num_rows))\n",
    "\n",
    "# Flatten the axes array to handle the case when there is only one row\n",
    "axes = axes.flatten()\n",
    "\n",
    "# Iterate through categorical columns and plot countplots\n",
    "for i, column in enumerate(categorical_col):\n",
    "    sns.countplot(x=column, data=df, ax=axes[i])\n",
    "    \n"
   ]
  },
  {
   "cell_type": "markdown",
   "id": "f7cc4c64",
   "metadata": {},
   "source": [
    "**there is no significant imbalance in any feature.**"
   ]
  },
  {
   "cell_type": "code",
   "execution_count": 14,
   "id": "83223fce",
   "metadata": {},
   "outputs": [
    {
     "data": {
      "image/png": "[encoded data removed]",
      "text/plain": [
       "<Figure size 576x432 with 1 Axes>"
      ]
     },
     "metadata": {
      "needs_background": "light"
     },
     "output_type": "display_data"
    }
   ],
   "source": [
    "# Create a boxplot for the 'Age' column\n",
    "plt.figure(figsize=(8, 6))\n",
    "sns.boxplot(x='Age', data=df)\n",
    "plt.title('Boxplot of Age')\n",
    "plt.show()\n",
    "#No outliers in the age column\n",
    "#data is not skewed in the age column"
   ]
  },
  {
   "cell_type": "markdown",
   "id": "3780f3b9",
   "metadata": {},
   "source": [
    "# Bivariate analysis "
   ]
  },
  {
   "cell_type": "markdown",
   "id": "cda1913a",
   "metadata": {},
   "source": [
    "### lets first analyse each variable with our target column i.e. 'Gum_Disease_Risk'"
   ]
  },
  {
   "cell_type": "markdown",
   "id": "f7da91fe",
   "metadata": {},
   "source": [
    "#### Age vs 'Gum_Disease_Risk'\n"
   ]
  },
  {
   "cell_type": "code",
   "execution_count": 15,
   "id": "6776a6d2",
   "metadata": {},
   "outputs": [
    {
     "data": {
      "image/png": "[encoded data removed]",
      "text/plain": [
       "<Figure size 720x432 with 1 Axes>"
      ]
     },
     "metadata": {
      "needs_background": "light"
     },
     "output_type": "display_data"
    }
   ],
   "source": [
    "plt.figure(figsize=(10, 6))\n",
    "sns.boxplot(x='Gum_Disease_Risk', y='Age', data=df)\n",
    "plt.title('Age vs. Gum Disease Risk')\n",
    "plt.show()"
   ]
  },
  {
   "cell_type": "markdown",
   "id": "a5cca3a4",
   "metadata": {},
   "source": [
    "**All type of gum disease risk (high , moderate , low) have median around 40 years of age. So people with age in the bracket of 30-50 are at higher risk.**"
   ]
  },
  {
   "cell_type": "markdown",
   "id": "027c0c51",
   "metadata": {},
   "source": [
    "#### Brushing Frequency vs. Gum Disease Risk"
   ]
  },
  {
   "cell_type": "code",
   "execution_count": 16,
   "id": "c227dc0d",
   "metadata": {},
   "outputs": [
    {
     "data": {
      "image/png": "[encoded data removed]",
      "text/plain": [
       "<Figure size 1080x720 with 1 Axes>"
      ]
     },
     "metadata": {
      "needs_background": "light"
     },
     "output_type": "display_data"
    }
   ],
   "source": [
    "\n",
    "plt.figure(figsize=(15, 10))\n",
    "sns.countplot(x='Gum_Disease_Risk', hue='Brushing_Frequency', data=df)\n",
    "plt.title('Brushing Frequency vs. Gum Disease Risk')\n",
    "plt.show()"
   ]
  },
  {
   "cell_type": "markdown",
   "id": "f57b92ee",
   "metadata": {},
   "source": [
    "**Above plot tells gum disease risk is low when individual brushes twice a day. Gum disease risk is moderate and high when individual brushes once in every few days. This suggests a positive relationship between regular brushing habits and reduced gum disease risk.**"
   ]
  },
  {
   "cell_type": "markdown",
   "id": "95b679fd",
   "metadata": {},
   "source": [
    "#### Gender vs. Gum Disease Risk"
   ]
  },
  {
   "cell_type": "code",
   "execution_count": 17,
   "id": "b76b92e5",
   "metadata": {},
   "outputs": [
    {
     "data": {
      "image/png": "[encoded data removed]",
      "text/plain": [
       "<Figure size 576x360 with 1 Axes>"
      ]
     },
     "metadata": {
      "needs_background": "light"
     },
     "output_type": "display_data"
    }
   ],
   "source": [
    "plt.figure(figsize=(8, 5))\n",
    "sns.countplot(x='Gum_Disease_Risk', hue='Gender', data=df)\n",
    "plt.title('Gender vs. Gum Disease Risk')\n",
    "plt.show()"
   ]
  },
  {
   "cell_type": "markdown",
   "id": "3006068d",
   "metadata": {},
   "source": [
    "**Gum disease risk are moderate and high in male as compared to female.**"
   ]
  },
  {
   "cell_type": "markdown",
   "id": "5afb74a9",
   "metadata": {},
   "source": [
    "#### Flossing Habits vs. Gum Disease Risk\n"
   ]
  },
  {
   "cell_type": "code",
   "execution_count": 18,
   "id": "046bec5f",
   "metadata": {},
   "outputs": [
    {
     "data": {
      "image/png": "[encoded data removed]",
      "text/plain": [
       "<Figure size 720x432 with 1 Axes>"
      ]
     },
     "metadata": {
      "needs_background": "light"
     },
     "output_type": "display_data"
    }
   ],
   "source": [
    "plt.figure(figsize=(10, 6))\n",
    "sns.countplot(x='Gum_Disease_Risk', hue='Flossing_Habits', data=df)\n",
    "plt.title('Flossing Habits vs. Gum Disease Risk')\n",
    "plt.show()"
   ]
  },
  {
   "cell_type": "markdown",
   "id": "9043b643",
   "metadata": {},
   "source": [
    "**Individuals who floss rarely have a high risk of gum disease. This tells the importance of regular flossing as a potential protective factor against gum disease.**"
   ]
  },
  {
   "cell_type": "markdown",
   "id": "e571312b",
   "metadata": {},
   "source": [
    "#### Sugar Consumption vs. Gum Disease Risk \n"
   ]
  },
  {
   "cell_type": "code",
   "execution_count": 19,
   "id": "a1038462",
   "metadata": {},
   "outputs": [
    {
     "data": {
      "image/png": "[encoded data removed]",
      "text/plain": [
       "<Figure size 720x432 with 1 Axes>"
      ]
     },
     "metadata": {
      "needs_background": "light"
     },
     "output_type": "display_data"
    }
   ],
   "source": [
    "plt.figure(figsize=(10, 6))\n",
    "sns.countplot(x='Gum_Disease_Risk', hue='Sugar_Consumption', data=df)\n",
    "plt.title('Sugar Consumption vs. Gum Disease Risk')\n",
    "plt.show()\n"
   ]
  },
  {
   "cell_type": "markdown",
   "id": "915620f6",
   "metadata": {},
   "source": [
    "**Individuals with low sugar consumption have a lower risk of gum disease, while those with high consumption may have a higher risk."
   ]
  },
  {
   "cell_type": "markdown",
   "id": "71d06151",
   "metadata": {},
   "source": [
    "#### Dental Checkups vs. Gum Disease Risk\n"
   ]
  },
  {
   "cell_type": "code",
   "execution_count": 20,
   "id": "ed2426dc",
   "metadata": {},
   "outputs": [
    {
     "data": {
      "image/png": "[encoded data removed]",
      "text/plain": [
       "<Figure size 720x432 with 1 Axes>"
      ]
     },
     "metadata": {
      "needs_background": "light"
     },
     "output_type": "display_data"
    }
   ],
   "source": [
    "plt.figure(figsize=(10, 6))\n",
    "sns.countplot(x='Gum_Disease_Risk', hue='Dental_Checkups', data=df)\n",
    "plt.title('Dental Checkups vs. Gum Disease Risk')\n",
    "plt.show()\n"
   ]
  },
  {
   "cell_type": "markdown",
   "id": "6a319928",
   "metadata": {},
   "source": [
    "**Risk of getting gum disease risk gets slighty high when dental checkups are none."
   ]
  },
  {
   "cell_type": "markdown",
   "id": "1ab4890b",
   "metadata": {},
   "source": [
    "#### Flossing Habits vs. Brushing Frequency\n"
   ]
  },
  {
   "cell_type": "code",
   "execution_count": 21,
   "id": "59463496",
   "metadata": {},
   "outputs": [
    {
     "data": {
      "image/png": "[encoded data removed]",
      "text/plain": [
       "<Figure size 864x432 with 1 Axes>"
      ]
     },
     "metadata": {
      "needs_background": "light"
     },
     "output_type": "display_data"
    }
   ],
   "source": [
    "plt.figure(figsize=(12, 6))\n",
    "sns.countplot(x='Brushing_Frequency', hue='Flossing_Habits', data=df)\n",
    "plt.title('Flossing Habits vs. Brushing Frequency')\n",
    "plt.show()\n"
   ]
  },
  {
   "cell_type": "markdown",
   "id": "ceb0a116",
   "metadata": {},
   "source": [
    "**Individuals who brush teeth twice a day flosses rarely.\n"
   ]
  },
  {
   "cell_type": "code",
   "execution_count": 22,
   "id": "bef9c7ea",
   "metadata": {},
   "outputs": [
    {
     "data": {
      "image/png": "[encoded data removed]",
      "text/plain": [
       "<Figure size 720x432 with 1 Axes>"
      ]
     },
     "metadata": {
      "needs_background": "light"
     },
     "output_type": "display_data"
    }
   ],
   "source": [
    "#Age vs. Sugar Consumption (Boxplot):\n",
    "plt.figure(figsize=(10, 6))\n",
    "sns.boxplot(x='Sugar_Consumption', y='Age', data=df)\n",
    "plt.title('Age vs. Sugar Consumption')\n",
    "plt.show()\n"
   ]
  },
  {
   "cell_type": "code",
   "execution_count": 23,
   "id": "566100d4",
   "metadata": {},
   "outputs": [
    {
     "data": {
      "image/png": "[encoded data removed]",
      "text/plain": [
       "<Figure size 576x432 with 1 Axes>"
      ]
     },
     "metadata": {
      "needs_background": "light"
     },
     "output_type": "display_data"
    }
   ],
   "source": [
    "plt.figure(figsize=(8, 6))\n",
    "sns.barplot(x='Gender', y='Age', data=df)\n",
    "plt.title('Average Age by Gender')\n",
    "plt.show()\n",
    "# data is balanced for male and female"
   ]
  },
  {
   "cell_type": "code",
   "execution_count": 24,
   "id": "c92bd0a7",
   "metadata": {},
   "outputs": [
    {
     "data": {
      "image/png": "[encoded data removed]",
      "text/plain": [
       "<Figure size 864x432 with 1 Axes>"
      ]
     },
     "metadata": {
      "needs_background": "light"
     },
     "output_type": "display_data"
    }
   ],
   "source": [
    "plt.figure(figsize=(12, 6))\n",
    "sns.boxplot(x='Flossing_Habits', y='Age', data=df)\n",
    "plt.title('Age by Flossing Habits')\n",
    "plt.show()\n",
    "# flossing habbit is regular for the age 40 "
   ]
  },
  {
   "cell_type": "code",
   "execution_count": 25,
   "id": "ec835947",
   "metadata": {},
   "outputs": [
    {
     "data": {
      "image/png": "[encoded data removed]",
      "text/plain": [
       "<Figure size 720x432 with 1 Axes>"
      ]
     },
     "metadata": {
      "needs_background": "light"
     },
     "output_type": "display_data"
    }
   ],
   "source": [
    "plt.figure(figsize=(10, 6))\n",
    "sns.pointplot(x='Dental_Checkups', y='Age', data=df, ci=None)\n",
    "plt.title('Pointplot of Dental Checkups and Age')\n",
    "plt.show()\n",
    "# dental checkups gets irregular after the age of 40 "
   ]
  },
  {
   "cell_type": "markdown",
   "id": "4f6ac4c7",
   "metadata": {},
   "source": [
    "## Data Preprocessing"
   ]
  },
  {
   "cell_type": "markdown",
   "id": "d7fa229c",
   "metadata": {},
   "source": [
    "**Data has no null values and outliers.\n",
    "We will proceed with encoding of the categorical variable to convert it to numerical.\n",
    "Also, we can perform scaling of the numerical variable age.**"
   ]
  },
  {
   "cell_type": "code",
   "execution_count": 26,
   "id": "b5f9f435",
   "metadata": {},
   "outputs": [],
   "source": [
    "#Convert 'Gum_Disease_Risk' to numerical using label encoding\n",
    "from sklearn.preprocessing import LabelEncoder\n",
    "\n",
    "label_encoder = LabelEncoder()\n",
    "df['Gum_Disease_Risk'] = label_encoder.fit_transform(df['Gum_Disease_Risk'])"
   ]
  },
  {
   "cell_type": "code",
   "execution_count": 27,
   "id": "3ec7d228",
   "metadata": {},
   "outputs": [],
   "source": [
    "#Remove Unnecessary Column\n",
    "df = df.drop('ID', axis=1)\n"
   ]
  },
  {
   "cell_type": "code",
   "execution_count": 28,
   "id": "b426b7f8",
   "metadata": {},
   "outputs": [],
   "source": [
    "from sklearn.preprocessing import StandardScaler\n",
    "\n",
    "# Example: Standardize numerical columns like 'Age'\n",
    "scaler = StandardScaler()\n",
    "df['Age'] = scaler.fit_transform(df[['Age']])"
   ]
  },
  {
   "cell_type": "code",
   "execution_count": 29,
   "id": "dfa0de0b",
   "metadata": {},
   "outputs": [
    {
     "name": "stdout",
     "output_type": "stream",
     "text": [
      "        Age  Gum_Disease_Risk  Gender_Female  Gender_Male  \\\n",
      "0  0.296622                 0              1            0   \n",
      "1  0.444973                 0              1            0   \n",
      "2  0.593323                 0              1            0   \n",
      "3 -1.483585                 0              1            0   \n",
      "4  1.186726                 1              1            0   \n",
      "\n",
      "   Brushing_Frequency_Daily  Brushing_Frequency_Once every few days  \\\n",
      "0                         0                                       0   \n",
      "1                         0                                       1   \n",
      "2                         0                                       0   \n",
      "3                         0                                       1   \n",
      "4                         0                                       0   \n",
      "\n",
      "   Brushing_Frequency_Twice a day  Flossing_Habits_Occasionally  \\\n",
      "0                               1                             1   \n",
      "1                               0                             1   \n",
      "2                               1                             0   \n",
      "3                               0                             0   \n",
      "4                               1                             1   \n",
      "\n",
      "   Flossing_Habits_Rarely  Flossing_Habits_Regularly  Sugar_Consumption_High  \\\n",
      "0                       0                          0                       0   \n",
      "1                       0                          0                       1   \n",
      "2                       0                          1                       1   \n",
      "3                       1                          0                       0   \n",
      "4                       0                          0                       0   \n",
      "\n",
      "   Sugar_Consumption_Low  Sugar_Consumption_Moderate  \\\n",
      "0                      1                           0   \n",
      "1                      0                           0   \n",
      "2                      0                           0   \n",
      "3                      0                           1   \n",
      "4                      1                           0   \n",
      "\n",
      "   Dental_Checkups_Irregular  Dental_Checkups_None  Dental_Checkups_Regular  \n",
      "0                          1                     0                        0  \n",
      "1                          0                     0                        1  \n",
      "2                          0                     0                        1  \n",
      "3                          0                     0                        1  \n",
      "4                          0                     1                        0  \n"
     ]
    }
   ],
   "source": [
    "# Identify categorical columns for one-hot encoding\n",
    "categorical_cols = df.select_dtypes(include='object').columns\n",
    "\n",
    "# Perform one-hot encoding for all categorical columns\n",
    "df_encoded = pd.get_dummies(df, columns=categorical_cols)\n",
    "\n",
    "# Display the first few rows of the encoded dataset\n",
    "print(df_encoded.head())"
   ]
  },
  {
   "cell_type": "markdown",
   "id": "c5abc263",
   "metadata": {},
   "source": [
    "## Models Training, Optimisation and Evaluation"
   ]
  },
  {
   "cell_type": "markdown",
   "id": "d287e415",
   "metadata": {},
   "source": [
    "### Logistic Regression Model"
   ]
  },
  {
   "cell_type": "code",
   "execution_count": 30,
   "id": "c811cdd8",
   "metadata": {},
   "outputs": [],
   "source": [
    "#Logistic regression model\n",
    "from sklearn.model_selection import train_test_split\n",
    "from sklearn.linear_model import LogisticRegression\n",
    "from sklearn.metrics import classification_report, confusion_matrix, accuracy_score"
   ]
  },
  {
   "cell_type": "code",
   "execution_count": 31,
   "id": "8955117f",
   "metadata": {},
   "outputs": [],
   "source": [
    "# Assuming 'Gum_Disease_Risk' is the target variable\n",
    "X = df_encoded.drop('Gum_Disease_Risk', axis=1)\n",
    "y = df_encoded['Gum_Disease_Risk']"
   ]
  },
  {
   "cell_type": "code",
   "execution_count": 32,
   "id": "d5e16a6d",
   "metadata": {},
   "outputs": [],
   "source": [
    "# Split the data into training and testing sets\n",
    "X_train, X_test, y_train, y_test = train_test_split(X, y, test_size=0.2, random_state=42)"
   ]
  },
  {
   "cell_type": "code",
   "execution_count": 33,
   "id": "12044b12",
   "metadata": {},
   "outputs": [],
   "source": [
    "model = LogisticRegression()"
   ]
  },
  {
   "cell_type": "code",
   "execution_count": 34,
   "id": "4f5af516",
   "metadata": {},
   "outputs": [
    {
     "data": {
      "text/html": [
       "<style>#sk-container-id-1 {color: black;}#sk-container-id-1 pre{padding: 0;}#sk-container-id-1 div.sk-toggleable {background-color: white;}#sk-container-id-1 label.sk-toggleable__label {cursor: pointer;display: block;width: 100%;margin-bottom: 0;padding: 0.3em;box-sizing: border-box;text-align: center;}#sk-container-id-1 label.sk-toggleable__label-arrow:before {content: \"▸\";float: left;margin-right: 0.25em;color: #696969;}#sk-container-id-1 label.sk-toggleable__label-arrow:hover:before {color: black;}#sk-container-id-1 div.sk-estimator:hover label.sk-toggleable__label-arrow:before {color: black;}#sk-container-id-1 div.sk-toggleable__content {max-height: 0;max-width: 0;overflow: hidden;text-align: left;background-color: #f0f8ff;}#sk-container-id-1 div.sk-toggleable__content pre {margin: 0.2em;color: black;border-radius: 0.25em;background-color: #f0f8ff;}#sk-container-id-1 input.sk-toggleable__control:checked~div.sk-toggleable__content {max-height: 200px;max-width: 100%;overflow: auto;}#sk-container-id-1 input.sk-toggleable__control:checked~label.sk-toggleable__label-arrow:before {content: \"▾\";}#sk-container-id-1 div.sk-estimator input.sk-toggleable__control:checked~label.sk-toggleable__label {background-color: #d4ebff;}#sk-container-id-1 div.sk-label input.sk-toggleable__control:checked~label.sk-toggleable__label {background-color: #d4ebff;}#sk-container-id-1 input.sk-hidden--visually {border: 0;clip: rect(1px 1px 1px 1px);clip: rect(1px, 1px, 1px, 1px);height: 1px;margin: -1px;overflow: hidden;padding: 0;position: absolute;width: 1px;}#sk-container-id-1 div.sk-estimator {font-family: monospace;background-color: #f0f8ff;border: 1px dotted black;border-radius: 0.25em;box-sizing: border-box;margin-bottom: 0.5em;}#sk-container-id-1 div.sk-estimator:hover {background-color: #d4ebff;}#sk-container-id-1 div.sk-parallel-item::after {content: \"\";width: 100%;border-bottom: 1px solid gray;flex-grow: 1;}#sk-container-id-1 div.sk-label:hover label.sk-toggleable__label {background-color: #d4ebff;}#sk-container-id-1 div.sk-serial::before {content: \"\";position: absolute;border-left: 1px solid gray;box-sizing: border-box;top: 0;bottom: 0;left: 50%;z-index: 0;}#sk-container-id-1 div.sk-serial {display: flex;flex-direction: column;align-items: center;background-color: white;padding-right: 0.2em;padding-left: 0.2em;position: relative;}#sk-container-id-1 div.sk-item {position: relative;z-index: 1;}#sk-container-id-1 div.sk-parallel {display: flex;align-items: stretch;justify-content: center;background-color: white;position: relative;}#sk-container-id-1 div.sk-item::before, #sk-container-id-1 div.sk-parallel-item::before {content: \"\";position: absolute;border-left: 1px solid gray;box-sizing: border-box;top: 0;bottom: 0;left: 50%;z-index: -1;}#sk-container-id-1 div.sk-parallel-item {display: flex;flex-direction: column;z-index: 1;position: relative;background-color: white;}#sk-container-id-1 div.sk-parallel-item:first-child::after {align-self: flex-end;width: 50%;}#sk-container-id-1 div.sk-parallel-item:last-child::after {align-self: flex-start;width: 50%;}#sk-container-id-1 div.sk-parallel-item:only-child::after {width: 0;}#sk-container-id-1 div.sk-dashed-wrapped {border: 1px dashed gray;margin: 0 0.4em 0.5em 0.4em;box-sizing: border-box;padding-bottom: 0.4em;background-color: white;}#sk-container-id-1 div.sk-label label {font-family: monospace;font-weight: bold;display: inline-block;line-height: 1.2em;}#sk-container-id-1 div.sk-label-container {text-align: center;}#sk-container-id-1 div.sk-container {/* jupyter's `normalize.less` sets `[hidden] { display: none; }` but bootstrap.min.css set `[hidden] { display: none !important; }` so we also need the `!important` here to be able to override the default hidden behavior on the sphinx rendered scikit-learn.org. See: https://github.com/scikit-learn/scikit-learn/issues/21755 */display: inline-block !important;position: relative;}#sk-container-id-1 div.sk-text-repr-fallback {display: none;}</style><div id=\"sk-container-id-1\" class=\"sk-top-container\"><div class=\"sk-text-repr-fallback\"><pre>LogisticRegression()</pre><b>In a Jupyter environment, please rerun this cell to show the HTML representation or trust the notebook. <br />On GitHub, the HTML representation is unable to render, please try loading this page with nbviewer.org.</b></div><div class=\"sk-container\" hidden><div class=\"sk-item\"><div class=\"sk-estimator sk-toggleable\"><input class=\"sk-toggleable__control sk-hidden--visually\" id=\"sk-estimator-id-1\" type=\"checkbox\" checked><label for=\"sk-estimator-id-1\" class=\"sk-toggleable__label sk-toggleable__label-arrow\">LogisticRegression</label><div class=\"sk-toggleable__content\"><pre>LogisticRegression()</pre></div></div></div></div></div>"
      ],
      "text/plain": [
       "LogisticRegression()"
      ]
     },
     "execution_count": 34,
     "metadata": {},
     "output_type": "execute_result"
    }
   ],
   "source": [
    "# Train the model\n",
    "model.fit(X_train, y_train)"
   ]
  },
  {
   "cell_type": "code",
   "execution_count": 35,
   "id": "eaaa8d83",
   "metadata": {},
   "outputs": [],
   "source": [
    "# Make predictions on the test set\n",
    "y_pred = model.predict(X_test)"
   ]
  },
  {
   "cell_type": "code",
   "execution_count": 36,
   "id": "55110703",
   "metadata": {},
   "outputs": [
    {
     "name": "stdout",
     "output_type": "stream",
     "text": [
      "Confusion Matrix:\n",
      " [[164 372 474]\n",
      " [147 344 476]\n",
      " [166 384 473]]\n",
      "\n",
      "Classification Report:\n",
      "               precision    recall  f1-score   support\n",
      "\n",
      "           0       0.34      0.16      0.22      1010\n",
      "           1       0.31      0.36      0.33       967\n",
      "           2       0.33      0.46      0.39      1023\n",
      "\n",
      "    accuracy                           0.33      3000\n",
      "   macro avg       0.33      0.33      0.31      3000\n",
      "weighted avg       0.33      0.33      0.31      3000\n",
      "\n",
      "\n",
      "Accuracy Score: 0.327\n"
     ]
    }
   ],
   "source": [
    "# Evaluate the model\n",
    "print(\"Confusion Matrix:\\n\", confusion_matrix(y_test, y_pred))\n",
    "print(\"\\nClassification Report:\\n\", classification_report(y_test, y_pred))\n",
    "print(\"\\nAccuracy Score:\", accuracy_score(y_test, y_pred))"
   ]
  },
  {
   "cell_type": "markdown",
   "id": "ba421305",
   "metadata": {},
   "source": [
    "An accuracy score of 0.323 means that the logistic regression model correctly predicted the target variable for approximately 32.3% of the test set observations."
   ]
  },
  {
   "cell_type": "markdown",
   "id": "4cf9d125",
   "metadata": {},
   "source": [
    "### KNN Model"
   ]
  },
  {
   "cell_type": "code",
   "execution_count": 37,
   "id": "4dbdc2f7",
   "metadata": {},
   "outputs": [
    {
     "name": "stdout",
     "output_type": "stream",
     "text": [
      "Confusion Matrix:\n",
      " [[481 336 193]\n",
      " [442 324 201]\n",
      " [447 348 228]]\n",
      "\n",
      "Classification Report:\n",
      "               precision    recall  f1-score   support\n",
      "\n",
      "           0       0.35      0.48      0.40      1010\n",
      "           1       0.32      0.34      0.33       967\n",
      "           2       0.37      0.22      0.28      1023\n",
      "\n",
      "    accuracy                           0.34      3000\n",
      "   macro avg       0.35      0.34      0.34      3000\n",
      "weighted avg       0.35      0.34      0.34      3000\n",
      "\n",
      "\n",
      "Accuracy Score: 0.3443333333333333\n"
     ]
    }
   ],
   "source": [
    "# K nearest neghbor\n",
    "from sklearn.neighbors import KNeighborsClassifier\n",
    "# Initialize the KNN model with k=5 (you can adjust k as needed)\n",
    "model_knn = KNeighborsClassifier(n_neighbors=5)\n",
    "\n",
    "# Train the model\n",
    "model_knn.fit(X_train, y_train)\n",
    "\n",
    "# Make predictions on the test set\n",
    "y_pred_knn = model_knn.predict(X_test)\n",
    "\n",
    "# Evaluate the KNN model\n",
    "print(\"Confusion Matrix:\\n\", confusion_matrix(y_test, y_pred_knn))\n",
    "print(\"\\nClassification Report:\\n\", classification_report(y_test, y_pred_knn))\n",
    "print(\"\\nAccuracy Score:\", accuracy_score(y_test, y_pred_knn))"
   ]
  },
  {
   "cell_type": "markdown",
   "id": "eb22cf7e",
   "metadata": {},
   "source": [
    "### KNN model Using GridSearchCV"
   ]
  },
  {
   "cell_type": "code",
   "execution_count": 38,
   "id": "f01393eb",
   "metadata": {},
   "outputs": [
    {
     "name": "stdout",
     "output_type": "stream",
     "text": [
      "Best Parameters: {'n_neighbors': 3, 'p': 1, 'weights': 'distance'}\n",
      "\n",
      "Confusion Matrix:\n",
      " [[429 324 257]\n",
      " [428 299 240]\n",
      " [454 318 251]]\n",
      "\n",
      "Classification Report:\n",
      "               precision    recall  f1-score   support\n",
      "\n",
      "           0       0.33      0.42      0.37      1010\n",
      "           1       0.32      0.31      0.31       967\n",
      "           2       0.34      0.25      0.28      1023\n",
      "\n",
      "    accuracy                           0.33      3000\n",
      "   macro avg       0.33      0.33      0.32      3000\n",
      "weighted avg       0.33      0.33      0.32      3000\n",
      "\n",
      "\n",
      "Accuracy Score: 0.3263333333333333\n"
     ]
    }
   ],
   "source": [
    "from sklearn.model_selection import GridSearchCV\n",
    "\n",
    "# Define the parameter grid\n",
    "param_grid = {\n",
    "    'n_neighbors': [3, 5, 7, 9],  # Adjust as needed\n",
    "    'weights': ['uniform', 'distance'],\n",
    "    'p': [1, 2]  # 1 for Manhattan distance, 2 for Euclidean distance\n",
    "}\n",
    "\n",
    "# Initialize the KNN model\n",
    "knn_model = KNeighborsClassifier()\n",
    "\n",
    "# Initialize GridSearchCV\n",
    "grid_search = GridSearchCV(knn_model, param_grid, cv=5, scoring='accuracy')\n",
    "\n",
    "# Fit the model with GridSearchCV\n",
    "grid_search.fit(X_train, y_train)\n",
    "\n",
    "# Print the best parameters found by GridSearchCV\n",
    "print(\"Best Parameters:\", grid_search.best_params_)\n",
    "\n",
    "# Make predictions on the test set using the best model\n",
    "y_pred_knn_grid = grid_search.predict(X_test)\n",
    "\n",
    "# Evaluate the model\n",
    "print(\"\\nConfusion Matrix:\\n\", confusion_matrix(y_test, y_pred_knn_grid))\n",
    "print(\"\\nClassification Report:\\n\", classification_report(y_test, y_pred_knn_grid))\n",
    "print(\"\\nAccuracy Score:\", accuracy_score(y_test, y_pred_knn_grid))\n"
   ]
  },
  {
   "cell_type": "markdown",
   "id": "5571c250",
   "metadata": {},
   "source": [
    "### Decision Tree Model"
   ]
  },
  {
   "cell_type": "code",
   "execution_count": 39,
   "id": "5256aa79",
   "metadata": {},
   "outputs": [
    {
     "name": "stdout",
     "output_type": "stream",
     "text": [
      "Confusion Matrix:\n",
      " [[426 327 257]\n",
      " [431 308 228]\n",
      " [463 319 241]]\n",
      "\n",
      "Classification Report:\n",
      "               precision    recall  f1-score   support\n",
      "\n",
      "           0       0.32      0.42      0.37      1010\n",
      "           1       0.32      0.32      0.32       967\n",
      "           2       0.33      0.24      0.28      1023\n",
      "\n",
      "    accuracy                           0.33      3000\n",
      "   macro avg       0.33      0.33      0.32      3000\n",
      "weighted avg       0.33      0.33      0.32      3000\n",
      "\n",
      "\n",
      "Accuracy Score: 0.325\n"
     ]
    }
   ],
   "source": [
    "# Decision tree model\n",
    "from sklearn.tree import DecisionTreeClassifier\n",
    "\n",
    "# Initialize the Decision Tree model\n",
    "decision_tree_model = DecisionTreeClassifier(random_state=42)\n",
    "\n",
    "# Train the model\n",
    "decision_tree_model.fit(X_train, y_train)\n",
    "\n",
    "# Make predictions on the test set\n",
    "y_pred_dt = decision_tree_model.predict(X_test)\n",
    "\n",
    "# Evaluate the Decision Tree model\n",
    "print(\"Confusion Matrix:\\n\", confusion_matrix(y_test, y_pred_dt))\n",
    "print(\"\\nClassification Report:\\n\", classification_report(y_test, y_pred_dt))\n",
    "print(\"\\nAccuracy Score:\", accuracy_score(y_test, y_pred_dt))"
   ]
  },
  {
   "cell_type": "markdown",
   "id": "d37d59dd",
   "metadata": {},
   "source": [
    "### Decision Tree Model using GridsearchCV"
   ]
  },
  {
   "cell_type": "code",
   "execution_count": 40,
   "id": "03eeea0d",
   "metadata": {},
   "outputs": [
    {
     "name": "stdout",
     "output_type": "stream",
     "text": [
      "Best Parameters: {'criterion': 'gini', 'max_depth': 5, 'min_samples_leaf': 1, 'min_samples_split': 2}\n",
      "\n",
      "Confusion Matrix:\n",
      " [[435 259 316]\n",
      " [400 239 328]\n",
      " [426 274 323]]\n",
      "\n",
      "Classification Report:\n",
      "               precision    recall  f1-score   support\n",
      "\n",
      "           0       0.34      0.43      0.38      1010\n",
      "           1       0.31      0.25      0.27       967\n",
      "           2       0.33      0.32      0.32      1023\n",
      "\n",
      "    accuracy                           0.33      3000\n",
      "   macro avg       0.33      0.33      0.33      3000\n",
      "weighted avg       0.33      0.33      0.33      3000\n",
      "\n",
      "\n",
      "Accuracy Score: 0.3323333333333333\n"
     ]
    }
   ],
   "source": [
    "from sklearn.model_selection import GridSearchCV\n",
    "\n",
    "# Define the parameter grid for Decision Tree\n",
    "param_grid_dt = {\n",
    "    'criterion': ['gini', 'entropy'],\n",
    "    'max_depth': [None, 5, 10, 15],\n",
    "    'min_samples_split': [2, 5, 10],\n",
    "    'min_samples_leaf': [1, 2, 4]\n",
    "}\n",
    "\n",
    "# Initialize the Decision Tree model\n",
    "decision_tree_model = DecisionTreeClassifier(random_state=42)\n",
    "\n",
    "# Initialize GridSearchCV\n",
    "grid_search_dt = GridSearchCV(decision_tree_model, param_grid_dt, cv=5, scoring='accuracy')\n",
    "\n",
    "# Fit the model with GridSearchCV\n",
    "grid_search_dt.fit(X_train, y_train)\n",
    "\n",
    "# Print the best parameters found by GridSearchCV\n",
    "print(\"Best Parameters:\", grid_search_dt.best_params_)\n",
    "\n",
    "# Make predictions on the test set using the best model\n",
    "y_pred_dt_grid = grid_search_dt.predict(X_test)\n",
    "\n",
    "# Evaluate the model\n",
    "print(\"\\nConfusion Matrix:\\n\", confusion_matrix(y_test, y_pred_dt_grid))\n",
    "print(\"\\nClassification Report:\\n\", classification_report(y_test, y_pred_dt_grid))\n",
    "print(\"\\nAccuracy Score:\", accuracy_score(y_test, y_pred_dt_grid))\n"
   ]
  },
  {
   "cell_type": "markdown",
   "id": "b1315a55",
   "metadata": {},
   "source": [
    "### Support Vector Machine Model"
   ]
  },
  {
   "cell_type": "code",
   "execution_count": 41,
   "id": "01786d52",
   "metadata": {},
   "outputs": [
    {
     "name": "stdout",
     "output_type": "stream",
     "text": [
      "Confusion Matrix:\n",
      " [[354 327 329]\n",
      " [343 303 321]\n",
      " [319 376 328]]\n",
      "\n",
      "Classification Report:\n",
      "               precision    recall  f1-score   support\n",
      "\n",
      "           0       0.35      0.35      0.35      1010\n",
      "           1       0.30      0.31      0.31       967\n",
      "           2       0.34      0.32      0.33      1023\n",
      "\n",
      "    accuracy                           0.33      3000\n",
      "   macro avg       0.33      0.33      0.33      3000\n",
      "weighted avg       0.33      0.33      0.33      3000\n",
      "\n",
      "\n",
      "Accuracy Score: 0.3283333333333333\n"
     ]
    }
   ],
   "source": [
    "#Support vector machine\n",
    "\n",
    "from sklearn.model_selection import train_test_split\n",
    "from sklearn.svm import SVC\n",
    "from sklearn.metrics import classification_report, confusion_matrix, accuracy_score\n",
    "\n",
    "# Assuming 'Gum_Disease_Risk' is the target variable\n",
    "X = df_encoded.drop('Gum_Disease_Risk', axis=1)\n",
    "y = df_encoded['Gum_Disease_Risk']\n",
    "\n",
    "# Split the data into training and testing sets\n",
    "X_train, X_test, y_train, y_test = train_test_split(X, y, test_size=0.2, random_state=42)\n",
    "\n",
    "# Initialize the SVM model\n",
    "svm_model = SVC(random_state=42)\n",
    "\n",
    "# Train the model\n",
    "svm_model.fit(X_train, y_train)\n",
    "\n",
    "# Make predictions on the test set\n",
    "y_pred_svm = svm_model.predict(X_test)\n",
    "\n",
    "# Evaluate the SVM model\n",
    "print(\"Confusion Matrix:\\n\", confusion_matrix(y_test, y_pred_svm))\n",
    "print(\"\\nClassification Report:\\n\", classification_report(y_test, y_pred_svm))\n",
    "print(\"\\nAccuracy Score:\", accuracy_score(y_test, y_pred_svm))\n"
   ]
  },
  {
   "cell_type": "markdown",
   "id": "6703421f",
   "metadata": {},
   "source": [
    "### Supoort vector machine using GridsearchCV"
   ]
  },
  {
   "cell_type": "code",
   "execution_count": 42,
   "id": "004d7e12",
   "metadata": {},
   "outputs": [
    {
     "name": "stdout",
     "output_type": "stream",
     "text": [
      "Best Parameters: {'C': 10, 'gamma': 'scale', 'kernel': 'rbf'}\n",
      "\n",
      "Confusion Matrix:\n",
      " [[348 334 328]\n",
      " [341 300 326]\n",
      " [304 362 357]]\n",
      "\n",
      "Classification Report:\n",
      "               precision    recall  f1-score   support\n",
      "\n",
      "           0       0.35      0.34      0.35      1010\n",
      "           1       0.30      0.31      0.31       967\n",
      "           2       0.35      0.35      0.35      1023\n",
      "\n",
      "    accuracy                           0.34      3000\n",
      "   macro avg       0.33      0.33      0.33      3000\n",
      "weighted avg       0.34      0.34      0.34      3000\n",
      "\n",
      "\n",
      "Accuracy Score: 0.335\n"
     ]
    }
   ],
   "source": [
    "from sklearn.model_selection import GridSearchCV\n",
    "from sklearn.svm import SVC\n",
    "from sklearn.metrics import classification_report, confusion_matrix, accuracy_score\n",
    "\n",
    "# Assuming 'Gum_Disease_Risk' is the target variable\n",
    "X = df_encoded.drop('Gum_Disease_Risk', axis=1)\n",
    "y = df_encoded['Gum_Disease_Risk']\n",
    "\n",
    "# Split the data into training and testing sets\n",
    "X_train, X_test, y_train, y_test = train_test_split(X, y, test_size=0.2, random_state=42)\n",
    "\n",
    "# Define the parameter grid for SVM\n",
    "param_grid_svm = {\n",
    "    'C': [0.1, 1, 10],\n",
    "    'kernel': ['linear', 'rbf', 'poly'],\n",
    "    'gamma': ['scale', 'auto']\n",
    "}\n",
    "\n",
    "# Initialize the SVM model\n",
    "svm_model = SVC(random_state=42)\n",
    "\n",
    "# Initialize GridSearchCV\n",
    "grid_search_svm = GridSearchCV(svm_model, param_grid_svm, cv=5, scoring='accuracy')\n",
    "\n",
    "# Fit the model with GridSearchCV\n",
    "grid_search_svm.fit(X_train, y_train)\n",
    "\n",
    "# Print the best parameters found by GridSearchCV\n",
    "print(\"Best Parameters:\", grid_search_svm.best_params_)\n",
    "\n",
    "# Make predictions on the test set using the best model\n",
    "y_pred_svm_grid = grid_search_svm.predict(X_test)\n",
    "\n",
    "# Evaluate the model\n",
    "print(\"\\nConfusion Matrix:\\n\", confusion_matrix(y_test, y_pred_svm_grid))\n",
    "print(\"\\nClassification Report:\\n\", classification_report(y_test, y_pred_svm_grid))\n",
    "print(\"\\nAccuracy Score:\", accuracy_score(y_test, y_pred_svm_grid))\n"
   ]
  },
  {
   "cell_type": "markdown",
   "id": "b12c28aa",
   "metadata": {},
   "source": [
    "### Random Forest Model"
   ]
  },
  {
   "cell_type": "code",
   "execution_count": 43,
   "id": "247bda1e",
   "metadata": {},
   "outputs": [
    {
     "name": "stdout",
     "output_type": "stream",
     "text": [
      "\n",
      "Random Forest:\n",
      "Accuracy Score: 0.32766666666666666\n",
      "Classification Report:\n",
      "               precision    recall  f1-score   support\n",
      "\n",
      "           0       0.32      0.33      0.33      1010\n",
      "           1       0.32      0.32      0.32       967\n",
      "           2       0.34      0.33      0.34      1023\n",
      "\n",
      "    accuracy                           0.33      3000\n",
      "   macro avg       0.33      0.33      0.33      3000\n",
      "weighted avg       0.33      0.33      0.33      3000\n",
      "\n"
     ]
    }
   ],
   "source": [
    "from sklearn.ensemble import RandomForestClassifier, GradientBoostingClassifier\n",
    "# Random Forest model\n",
    "random_forest_model = RandomForestClassifier(random_state=42)\n",
    "random_forest_model.fit(X_train, y_train)\n",
    "y_pred_rf = random_forest_model.predict(X_test)\n",
    "print(\"\\nRandom Forest:\")\n",
    "print(\"Accuracy Score:\", accuracy_score(y_test, y_pred_rf))\n",
    "print(\"Classification Report:\\n\", classification_report(y_test, y_pred_rf))\n"
   ]
  },
  {
   "cell_type": "markdown",
   "id": "aa0976c1",
   "metadata": {},
   "source": [
    "### Gradient Boosting Model"
   ]
  },
  {
   "cell_type": "code",
   "execution_count": 44,
   "id": "9c34da24",
   "metadata": {},
   "outputs": [
    {
     "name": "stdout",
     "output_type": "stream",
     "text": [
      "\n",
      "Gradient Boosting:\n",
      "Accuracy Score: 0.339\n",
      "Classification Report:\n",
      "               precision    recall  f1-score   support\n",
      "\n",
      "           0       0.35      0.27      0.31      1010\n",
      "           1       0.32      0.37      0.35       967\n",
      "           2       0.35      0.37      0.36      1023\n",
      "\n",
      "    accuracy                           0.34      3000\n",
      "   macro avg       0.34      0.34      0.34      3000\n",
      "weighted avg       0.34      0.34      0.34      3000\n",
      "\n"
     ]
    }
   ],
   "source": [
    "# Gradient Boosting\n",
    "gradient_boosting_model = GradientBoostingClassifier(random_state=42)\n",
    "gradient_boosting_model.fit(X_train, y_train)\n",
    "y_pred_gb = gradient_boosting_model.predict(X_test)\n",
    "print(\"\\nGradient Boosting:\")\n",
    "print(\"Accuracy Score:\", accuracy_score(y_test, y_pred_gb))\n",
    "print(\"Classification Report:\\n\", classification_report(y_test, y_pred_gb))\n"
   ]
  },
  {
   "cell_type": "markdown",
   "id": "d5662308",
   "metadata": {},
   "source": [
    "### Naive Bayes Thoerum"
   ]
  },
  {
   "cell_type": "code",
   "execution_count": 45,
   "id": "5f6f977c",
   "metadata": {},
   "outputs": [
    {
     "name": "stdout",
     "output_type": "stream",
     "text": [
      "\n",
      "Naive Bayes (Gaussian):\n",
      "Accuracy Score: 0.33266666666666667\n",
      "Classification Report:\n",
      "               precision    recall  f1-score   support\n",
      "\n",
      "           0       0.35      0.20      0.25      1010\n",
      "           1       0.32      0.35      0.33       967\n",
      "           2       0.34      0.45      0.39      1023\n",
      "\n",
      "    accuracy                           0.33      3000\n",
      "   macro avg       0.33      0.33      0.32      3000\n",
      "weighted avg       0.33      0.33      0.32      3000\n",
      "\n"
     ]
    }
   ],
   "source": [
    "from sklearn.naive_bayes import GaussianNB\n",
    "\n",
    "naive_bayes_model = GaussianNB()\n",
    "naive_bayes_model.fit(X_train, y_train)\n",
    "y_pred_nb = naive_bayes_model.predict(X_test)\n",
    "print(\"\\nNaive Bayes (Gaussian):\")\n",
    "print(\"Accuracy Score:\", accuracy_score(y_test, y_pred_nb))\n",
    "print(\"Classification Report:\\n\", classification_report(y_test, y_pred_nb))"
   ]
  },
  {
   "cell_type": "markdown",
   "id": "18034c8e",
   "metadata": {},
   "source": [
    "### Random Search CV on Random Forest"
   ]
  },
  {
   "cell_type": "code",
   "execution_count": 46,
   "id": "6cb62a7f",
   "metadata": {},
   "outputs": [
    {
     "name": "stderr",
     "output_type": "stream",
     "text": [
      "C:\\Users\\vaish\\anaconda3\\lib\\site-packages\\sklearn\\model_selection\\_validation.py:425: FitFailedWarning: \n",
      "90 fits failed out of a total of 250.\n",
      "The score on these train-test partitions for these parameters will be set to nan.\n",
      "If these failures are not expected, you can try to debug them by setting error_score='raise'.\n",
      "\n",
      "Below are more details about the failures:\n",
      "--------------------------------------------------------------------------------\n",
      "90 fits failed with the following error:\n",
      "Traceback (most recent call last):\n",
      "  File \"C:\\Users\\vaish\\anaconda3\\lib\\site-packages\\sklearn\\model_selection\\_validation.py\", line 729, in _fit_and_score\n",
      "    estimator.fit(X_train, y_train, **fit_params)\n",
      "  File \"C:\\Users\\vaish\\anaconda3\\lib\\site-packages\\sklearn\\base.py\", line 1145, in wrapper\n",
      "    estimator._validate_params()\n",
      "  File \"C:\\Users\\vaish\\anaconda3\\lib\\site-packages\\sklearn\\base.py\", line 638, in _validate_params\n",
      "    validate_parameter_constraints(\n",
      "  File \"C:\\Users\\vaish\\anaconda3\\lib\\site-packages\\sklearn\\utils\\_param_validation.py\", line 96, in validate_parameter_constraints\n",
      "    raise InvalidParameterError(\n",
      "sklearn.utils._param_validation.InvalidParameterError: The 'max_features' parameter of RandomForestClassifier must be an int in the range [1, inf), a float in the range (0.0, 1.0], a str among {'sqrt', 'log2'} or None. Got 'auto' instead.\n",
      "\n",
      "  warnings.warn(some_fits_failed_message, FitFailedWarning)\n",
      "C:\\Users\\vaish\\anaconda3\\lib\\site-packages\\sklearn\\model_selection\\_search.py:979: UserWarning: One or more of the test scores are non-finite: [       nan 0.34058333        nan 0.3395            nan 0.34141667\n",
      " 0.33858333 0.33975           nan 0.342      0.34516667        nan\n",
      "        nan        nan        nan        nan 0.339      0.34066667\n",
      " 0.33966667        nan 0.34033333 0.34258333 0.34191667 0.34641667\n",
      " 0.34583333 0.3405     0.34508333        nan 0.34075    0.34591667\n",
      " 0.33933333 0.3405     0.34441667 0.34233333 0.34058333 0.34025\n",
      " 0.34075           nan 0.3455            nan 0.34441667        nan\n",
      " 0.34258333        nan 0.34158333 0.33783333        nan        nan\n",
      "        nan 0.33966667]\n",
      "  warnings.warn(\n"
     ]
    },
    {
     "name": "stdout",
     "output_type": "stream",
     "text": [
      "Best Parameters: {'n_estimators': 150, 'min_samples_split': 5, 'min_samples_leaf': 8, 'max_features': 'log2', 'max_depth': 5, 'bootstrap': True}\n",
      "\n",
      "Confusion Matrix:\n",
      " [[209 386 415]\n",
      " [214 354 399]\n",
      " [183 414 426]]\n",
      "\n",
      "Classification Report:\n",
      "               precision    recall  f1-score   support\n",
      "\n",
      "           0       0.34      0.21      0.26      1010\n",
      "           1       0.31      0.37      0.33       967\n",
      "           2       0.34      0.42      0.38      1023\n",
      "\n",
      "    accuracy                           0.33      3000\n",
      "   macro avg       0.33      0.33      0.32      3000\n",
      "weighted avg       0.33      0.33      0.32      3000\n",
      "\n",
      "\n",
      "Accuracy Score: 0.32966666666666666\n"
     ]
    }
   ],
   "source": [
    "from sklearn.model_selection import RandomizedSearchCV\n",
    "from sklearn.ensemble import RandomForestClassifier\n",
    "from sklearn.metrics import classification_report, confusion_matrix, accuracy_score\n",
    "\n",
    "# Assuming 'Gum_Disease_Risk' is the target variable\n",
    "X = df_encoded.drop('Gum_Disease_Risk', axis=1)\n",
    "y = df_encoded['Gum_Disease_Risk']\n",
    "\n",
    "# Split the data into training and testing sets\n",
    "X_train, X_test, y_train, y_test = train_test_split(X, y, test_size=0.2, random_state=42)\n",
    "\n",
    "# Define the parameter distribution for RandomizedSearchCV\n",
    "param_dist_rf = {\n",
    "    'n_estimators': [50, 100, 150, 200],\n",
    "    'max_depth': [None, 5, 10, 15, 20],\n",
    "    'min_samples_split': [2, 5, 10, 15],\n",
    "    'min_samples_leaf': [1, 2, 4, 8],\n",
    "    'max_features': ['auto', 'sqrt', 'log2'],\n",
    "    'bootstrap': [True, False]\n",
    "}\n",
    "\n",
    "# Initialize the Random Forest model\n",
    "random_forest_model = RandomForestClassifier(random_state=42)\n",
    "\n",
    "# Initialize RandomizedSearchCV\n",
    "random_search_rf = RandomizedSearchCV(random_forest_model, param_distributions=param_dist_rf, n_iter=50, cv=5, scoring='accuracy', random_state=42)\n",
    "\n",
    "# Fit the model with RandomizedSearchCV\n",
    "random_search_rf.fit(X_train, y_train)\n",
    "\n",
    "# Print the best parameters found by RandomizedSearchCV\n",
    "print(\"Best Parameters:\", random_search_rf.best_params_)\n",
    "\n",
    "# Make predictions on the test set using the best model\n",
    "y_pred_rf_random = random_search_rf.predict(X_test)\n",
    "\n",
    "# Evaluate the model\n",
    "print(\"\\nConfusion Matrix:\\n\", confusion_matrix(y_test, y_pred_rf_random))\n",
    "print(\"\\nClassification Report:\\n\", classification_report(y_test, y_pred_rf_random))\n",
    "print(\"\\nAccuracy Score:\", accuracy_score(y_test, y_pred_rf_random))\n"
   ]
  },
  {
   "cell_type": "markdown",
   "id": "c9579288",
   "metadata": {},
   "source": [
    "**Accuracy score of the models"
   ]
  },
  {
   "cell_type": "code",
   "execution_count": 47,
   "id": "5dca7b26",
   "metadata": {},
   "outputs": [
    {
     "name": "stdout",
     "output_type": "stream",
     "text": [
      "Logistic Regression Accuracy: 0.327\n",
      "K-Nearest Neighbors Accuracy: 0.3443333333333333\n",
      "Decision Tree Accuracy: 0.325\n",
      "Support Vector Machine Accuracy: 0.3283333333333333\n",
      "Random Forest Accuracy: 0.32766666666666666\n",
      "Gradient Boosting Accuracy: 0.339\n",
      "Naive Bayes Accuracy: 0.33266666666666667\n"
     ]
    }
   ],
   "source": [
    "print(\"Logistic Regression Accuracy:\", accuracy_score(y_test, y_pred))\n",
    "print(\"K-Nearest Neighbors Accuracy:\", accuracy_score(y_test, y_pred_knn))\n",
    "print(\"Decision Tree Accuracy:\", accuracy_score(y_test, y_pred_dt))\n",
    "print(\"Support Vector Machine Accuracy:\", accuracy_score(y_test, y_pred_svm))\n",
    "print(\"Random Forest Accuracy:\", accuracy_score(y_test, y_pred_rf))\n",
    "print(\"Gradient Boosting Accuracy:\", accuracy_score(y_test, y_pred_gb))\n",
    "print(\"Naive Bayes Accuracy:\", accuracy_score(y_test, y_pred_nb))\n"
   ]
  },
  {
   "cell_type": "markdown",
   "id": "713919c7",
   "metadata": {},
   "source": [
    "**Conclusion : For the given dataset, Random Forest Model can be proven as the best classifier with highest accuracy and highest precision.\n",
    "Despite data preprocessing and hyperparameter tuning, accuracy of the models is not satisfactory. This may be due to the reason regarding our synthetic dataset which might not be representing the real world data.**"
   ]
  },
  {
   "cell_type": "code",
   "execution_count": null,
   "id": "309151a5",
   "metadata": {},
   "outputs": [],
   "source": []
  }
 ],
 "metadata": {
  "kernelspec": {
   "display_name": "Python 3 (ipykernel)",
   "language": "python",
   "name": "python3"
  },
  "language_info": {
   "codemirror_mode": {
    "name": "ipython",
    "version": 3
   },
   "file_extension": ".py",
   "mimetype": "text/x-python",
   "name": "python",
   "nbconvert_exporter": "python",
   "pygments_lexer": "ipython3",
   "version": "3.9.7"
  }
 },
 "nbformat": 4,
 "nbformat_minor": 5
}
